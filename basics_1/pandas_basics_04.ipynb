{
 "cells": [
  {
   "cell_type": "code",
   "execution_count": 1,
   "id": "adb9eb38",
   "metadata": {},
   "outputs": [],
   "source": [
    "import pandas as pd\n",
    "import numpy as np"
   ]
  },
  {
   "cell_type": "markdown",
   "id": "7580d1c1",
   "metadata": {},
   "source": [
    "# Handling missing values"
   ]
  },
  {
   "cell_type": "code",
   "execution_count": 2,
   "id": "78b86745",
   "metadata": {},
   "outputs": [],
   "source": [
    "PATH_FILE = '/home/gustavo/Documents/Study/007_skills/000_data/titanic.csv'\n",
    "\n",
    "df = pd.read_csv(PATH_FILE)"
   ]
  },
  {
   "cell_type": "markdown",
   "id": "86a1a777",
   "metadata": {},
   "source": [
    "### Looking for missing values:"
   ]
  },
  {
   "cell_type": "code",
   "execution_count": 7,
   "id": "b1cf9f4d",
   "metadata": {},
   "outputs": [
    {
     "data": {
      "text/plain": [
       "PassengerId      0\n",
       "Survived         0\n",
       "Pclass           0\n",
       "Name             0\n",
       "Sex              0\n",
       "Age            177\n",
       "SibSp            0\n",
       "Parch            0\n",
       "Ticket           0\n",
       "Fare             0\n",
       "Cabin          687\n",
       "Embarked         2\n",
       "dtype: int64"
      ]
     },
     "execution_count": 7,
     "metadata": {},
     "output_type": "execute_result"
    }
   ],
   "source": [
    "df.isnull().sum()"
   ]
  },
  {
   "cell_type": "code",
   "execution_count": 9,
   "id": "05f2a014",
   "metadata": {},
   "outputs": [
    {
     "data": {
      "text/plain": [
       "PassengerId    0.000000\n",
       "Survived       0.000000\n",
       "Pclass         0.000000\n",
       "Name           0.000000\n",
       "Sex            0.000000\n",
       "Age            0.198653\n",
       "SibSp          0.000000\n",
       "Parch          0.000000\n",
       "Ticket         0.000000\n",
       "Fare           0.000000\n",
       "Cabin          0.771044\n",
       "Embarked       0.002245\n",
       "dtype: float64"
      ]
     },
     "execution_count": 9,
     "metadata": {},
     "output_type": "execute_result"
    }
   ],
   "source": [
    "df.isnull().mean()"
   ]
  },
  {
   "cell_type": "markdown",
   "id": "a1ee81fb",
   "metadata": {},
   "source": [
    "### Find out the median and mean values for all the non-missing values in the column"
   ]
  },
  {
   "cell_type": "code",
   "execution_count": 12,
   "id": "33ffb739",
   "metadata": {},
   "outputs": [
    {
     "name": "stdout",
     "output_type": "stream",
     "text": [
      "28.0\n",
      "29.69911764705882\n"
     ]
    }
   ],
   "source": [
    "# This process is for the column: 'Age'\n",
    "\n",
    "age_median = df.Age.median() # This code is the same as: age_median = df['Age'].median()\n",
    "age_mean = df['Age'].mean()\n",
    "\n",
    "\n",
    "print(age_median)\n",
    "print(age_mean)"
   ]
  },
  {
   "cell_type": "markdown",
   "id": "5170ca5e",
   "metadata": {},
   "source": [
    "### Adding the coluns median age, and mean age to the dataframe"
   ]
  },
  {
   "cell_type": "code",
   "execution_count": null,
   "id": "f1d939df",
   "metadata": {},
   "outputs": [],
   "source": []
  }
 ],
 "metadata": {
  "kernelspec": {
   "display_name": "skills_env",
   "language": "python",
   "name": "python3"
  },
  "language_info": {
   "codemirror_mode": {
    "name": "ipython",
    "version": 3
   },
   "file_extension": ".py",
   "mimetype": "text/x-python",
   "name": "python",
   "nbconvert_exporter": "python",
   "pygments_lexer": "ipython3",
   "version": "3.11.2"
  }
 },
 "nbformat": 4,
 "nbformat_minor": 5
}
