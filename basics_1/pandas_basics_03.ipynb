{
 "cells": [
  {
   "cell_type": "code",
   "execution_count": 2,
   "id": "313870aa",
   "metadata": {},
   "outputs": [],
   "source": [
    "import pandas as pd\n",
    "import numpy as np"
   ]
  },
  {
   "cell_type": "markdown",
   "id": "4c9bae0f",
   "metadata": {},
   "source": [
    "# Pandas Basics 3\n",
    "Pandas data structures: Dataframes"
   ]
  },
  {
   "cell_type": "markdown",
   "id": "4bb03fb2",
   "metadata": {},
   "source": [
    "### Crerating dataframes:"
   ]
  },
  {
   "cell_type": "code",
   "execution_count": 3,
   "id": "c77e08ac",
   "metadata": {},
   "outputs": [
    {
     "name": "stdout",
     "output_type": "stream",
     "text": [
      "Empty DataFrame\n",
      "Columns: []\n",
      "Index: []\n"
     ]
    }
   ],
   "source": [
    "# empty dataframe\n",
    "\n",
    "my_df = pd.DataFrame()\n",
    "print(my_df)"
   ]
  },
  {
   "cell_type": "markdown",
   "id": "f8c92d24",
   "metadata": {},
   "source": [
    "#### Creating a dataframe from a list of lists"
   ]
  },
  {
   "cell_type": "code",
   "execution_count": null,
   "id": "341bf194",
   "metadata": {},
   "outputs": [
    {
     "name": "stdout",
     "output_type": "stream",
     "text": [
      "       Subject  Score\n",
      "0  Mathematics   85.0\n",
      "1      English   91.0\n",
      "2      History   95.0\n",
      "3      Science    NaN\n",
      "4                70.0\n"
     ]
    }
   ],
   "source": [
    "scores = [['Mathematics', 85], ['English', 91], ['History', 95], ['Science'], ['',70]]\n",
    "\n",
    "scores_df = pd.DataFrame(scores, columns=['Subject', 'Score']) # Passing the names of the columns\n",
    "\n",
    "print(scores_df)"
   ]
  },
  {
   "cell_type": "markdown",
   "id": "01ba2486",
   "metadata": {},
   "source": [
    "#### Creating a dataframe from a dictionary"
   ]
  },
  {
   "cell_type": "code",
   "execution_count": 13,
   "id": "62cbe2ec",
   "metadata": {},
   "outputs": [
    {
     "name": "stdout",
     "output_type": "stream",
     "text": [
      "       Subject  Score\n",
      "0  Mathematics     98\n",
      "1      History     75\n",
      "2      English     68\n",
      "3      Science     82\n",
      "4          Art     99\n"
     ]
    }
   ],
   "source": [
    "dict_scores = {\n",
    "    'Subject': [\"Mathematics\", \"History\", \"English\", \"Science\", \"Art\"],\n",
    "    'Score': [98,75,68,82,99]\n",
    "}\n",
    "\n",
    "scores_df_2 = pd.DataFrame(dict_scores)\n",
    "print(scores_df_2)"
   ]
  },
  {
   "cell_type": "markdown",
   "id": "c98f6860",
   "metadata": {},
   "source": [
    "#### Creating a dataframe from a list of dictionaries"
   ]
  },
  {
   "cell_type": "code",
   "execution_count": 16,
   "id": "de7f4d7a",
   "metadata": {},
   "outputs": [
    {
     "name": "stdout",
     "output_type": "stream",
     "text": [
      "       Subject  Score\n",
      "0  Mathematics   85.0\n",
      "1      History   98.0\n",
      "2      English   85.0\n",
      "3          NaN   52.0\n",
      "4          Art    NaN\n"
     ]
    }
   ],
   "source": [
    "list_of_dicts = [\n",
    "    {'Subject':'Mathematics', 'Score': 85},\n",
    "    {'Subject':'History', 'Score': 98},\n",
    "    {'Subject':'English', 'Score': 85},\n",
    "    {'Score': 52},\n",
    "    {'Subject': 'Art'}\n",
    "]\n",
    "\n",
    "scores_df_3 = pd.DataFrame(list_of_dicts)\n",
    "print(scores_df_3)"
   ]
  },
  {
   "cell_type": "code",
   "execution_count": null,
   "id": "29233c03",
   "metadata": {},
   "outputs": [],
   "source": []
  }
 ],
 "metadata": {
  "kernelspec": {
   "display_name": "skills_env",
   "language": "python",
   "name": "python3"
  },
  "language_info": {
   "codemirror_mode": {
    "name": "ipython",
    "version": 3
   },
   "file_extension": ".py",
   "mimetype": "text/x-python",
   "name": "python",
   "nbconvert_exporter": "python",
   "pygments_lexer": "ipython3",
   "version": "3.11.2"
  }
 },
 "nbformat": 4,
 "nbformat_minor": 5
}
