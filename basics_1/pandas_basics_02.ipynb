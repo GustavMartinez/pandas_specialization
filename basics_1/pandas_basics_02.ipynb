{
 "cells": [
  {
   "cell_type": "code",
   "execution_count": 3,
   "id": "442ae1a0",
   "metadata": {},
   "outputs": [],
   "source": [
    "import pandas as pd\n",
    "import numpy as np"
   ]
  },
  {
   "cell_type": "markdown",
   "id": "d64e8cf9",
   "metadata": {},
   "source": [
    "# Pandas Basics 2\n",
    "pandas data structures Series and Dataframes"
   ]
  },
  {
   "cell_type": "markdown",
   "id": "3bd4b862",
   "metadata": {},
   "source": [
    "### Creating a pandas series:"
   ]
  },
  {
   "cell_type": "code",
   "execution_count": 2,
   "id": "6de2b608",
   "metadata": {},
   "outputs": [
    {
     "name": "stdout",
     "output_type": "stream",
     "text": [
      "Series([], dtype: object)\n"
     ]
    }
   ],
   "source": [
    "# Empty series:\n",
    "\n",
    "my_series = pd.Series()\n",
    "print(my_series)"
   ]
  },
  {
   "cell_type": "code",
   "execution_count": 7,
   "id": "cff85313",
   "metadata": {},
   "outputs": [
    {
     "name": "stdout",
     "output_type": "stream",
     "text": [
      "0     2\n",
      "1     4\n",
      "2     6\n",
      "3     8\n",
      "4    10\n",
      "dtype: int64\n",
      "\n",
      "0     1\n",
      "1     2\n",
      "2     3\n",
      "3     4\n",
      "4     5\n",
      "5     6\n",
      "6     7\n",
      "7     8\n",
      "8     9\n",
      "9    10\n",
      "dtype: int64\n"
     ]
    }
   ],
   "source": [
    "# series from a list:\n",
    "\n",
    "my_list = [2,4,6,8,10]\n",
    "serie_from_list = pd.Series(my_list)\n",
    "print(serie_from_list)\n",
    "\n",
    "print()\n",
    "# series from numpy array:\n",
    "\n",
    "my_array = np.array([1,2,3,4,5,6,7,8,9,10])\n",
    "new_series = pd.Series(my_array)\n",
    "print(new_series)"
   ]
  },
  {
   "cell_type": "code",
   "execution_count": null,
   "id": "a4006468",
   "metadata": {},
   "outputs": [],
   "source": []
  }
 ],
 "metadata": {
  "kernelspec": {
   "display_name": "skills_env",
   "language": "python",
   "name": "python3"
  },
  "language_info": {
   "codemirror_mode": {
    "name": "ipython",
    "version": 3
   },
   "file_extension": ".py",
   "mimetype": "text/x-python",
   "name": "python",
   "nbconvert_exporter": "python",
   "pygments_lexer": "ipython3",
   "version": "3.11.2"
  }
 },
 "nbformat": 4,
 "nbformat_minor": 5
}
