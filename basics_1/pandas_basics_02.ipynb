{
 "cells": [
  {
   "cell_type": "code",
   "execution_count": 3,
   "id": "442ae1a0",
   "metadata": {},
   "outputs": [],
   "source": [
    "import pandas as pd\n",
    "import numpy as np"
   ]
  },
  {
   "cell_type": "markdown",
   "id": "d64e8cf9",
   "metadata": {},
   "source": [
    "# Pandas Basics 2\n",
    "Pandas data structures: Series"
   ]
  },
  {
   "cell_type": "markdown",
   "id": "3bd4b862",
   "metadata": {},
   "source": [
    "### Creating a pandas series:"
   ]
  },
  {
   "cell_type": "code",
   "execution_count": 2,
   "id": "6de2b608",
   "metadata": {},
   "outputs": [
    {
     "name": "stdout",
     "output_type": "stream",
     "text": [
      "Series([], dtype: object)\n"
     ]
    }
   ],
   "source": [
    "# Empty series:\n",
    "\n",
    "my_series = pd.Series()\n",
    "print(my_series)"
   ]
  },
  {
   "cell_type": "code",
   "execution_count": 8,
   "id": "cff85313",
   "metadata": {},
   "outputs": [
    {
     "name": "stdout",
     "output_type": "stream",
     "text": [
      "0     2\n",
      "1     4\n",
      "2     6\n",
      "3     8\n",
      "4    10\n",
      "dtype: int64\n",
      "\n",
      "0     1\n",
      "1     2\n",
      "2     3\n",
      "3     4\n",
      "4     5\n",
      "5     6\n",
      "6     7\n",
      "7     8\n",
      "8     9\n",
      "9    10\n",
      "dtype: int64\n"
     ]
    }
   ],
   "source": [
    "# series from a list:\n",
    "\n",
    "my_list = [2,4,6,8,10]\n",
    "serie_from_list = pd.Series(my_list)\n",
    "print(serie_from_list)\n",
    "\n",
    "print()\n",
    "\n",
    "\n",
    "# series from numpy array:\n",
    "\n",
    "my_array = np.array([1,2,3,4,5,6,7,8,9,10])\n",
    "new_series = pd.Series(my_array)\n",
    "print(new_series)"
   ]
  },
  {
   "cell_type": "markdown",
   "id": "22ece108",
   "metadata": {},
   "source": [
    "In the above output, you can see that the indexes for a series start from 0 to 1\n",
    "less than the number of items in the series. You can also define custom indexes\n",
    "for your series. To do so, you need to pass your list of indexes to the index\n",
    "attribute of the Series class,"
   ]
  },
  {
   "cell_type": "code",
   "execution_count": 9,
   "id": "a4006468",
   "metadata": {},
   "outputs": [
    {
     "name": "stdout",
     "output_type": "stream",
     "text": [
      "uno       1\n",
      "dos       2\n",
      "tres      3\n",
      "cuatro    4\n",
      "dtype: int64\n"
     ]
    }
   ],
   "source": [
    "new_array = np.array([1,2,3,4])\n",
    "indexes = ['uno', 'dos', 'tres', 'cuatro']\n",
    "new_data_series = pd.Series(new_array, index=indexes)\n",
    "print(new_data_series)"
   ]
  },
  {
   "cell_type": "markdown",
   "id": "97f5fab5",
   "metadata": {},
   "source": [
    "### Some operations"
   ]
  },
  {
   "cell_type": "code",
   "execution_count": 20,
   "id": "8e576724",
   "metadata": {},
   "outputs": [
    {
     "name": "stdout",
     "output_type": "stream",
     "text": [
      "0     0\n",
      "1     2\n",
      "2     4\n",
      "3     6\n",
      "4     8\n",
      "5    10\n",
      "6    12\n",
      "dtype: int64\n"
     ]
    }
   ],
   "source": [
    "array_2 = np.arange(0,14,2) # numpy array with 10 elements\n",
    "\n",
    "series_2 = pd.Series(array_2)\n",
    "\n",
    "print(series_2)"
   ]
  },
  {
   "cell_type": "code",
   "execution_count": 21,
   "id": "bf2c520b",
   "metadata": {},
   "outputs": [
    {
     "name": "stdout",
     "output_type": "stream",
     "text": [
      "0\n",
      "12\n",
      "6.0\n",
      "6.0\n"
     ]
    }
   ],
   "source": [
    "min_value = np.min(series_2) # max valur\n",
    "max_value = np.max(series_2) # min value\n",
    "mean_value = series_2.mean() # mean\n",
    "median_value = series_2.median()\n",
    "\n",
    "print(min_value)\n",
    "print(max_value)\n",
    "print(mean_value)\n",
    "print(median_value)"
   ]
  },
  {
   "cell_type": "markdown",
   "id": "770820ea",
   "metadata": {},
   "source": [
    "#### Convert a serie to list"
   ]
  },
  {
   "cell_type": "code",
   "execution_count": 23,
   "id": "e4d57835",
   "metadata": {},
   "outputs": [
    {
     "name": "stdout",
     "output_type": "stream",
     "text": [
      "[5, 6, 7, 8, 9]\n",
      "<class 'list'>\n"
     ]
    }
   ],
   "source": [
    "series_3 = pd.Series([5,6,7,8,9])\n",
    "serie_to_list = series_3.tolist()\n",
    "print(serie_to_list)\n",
    "print(type(serie_to_list))"
   ]
  },
  {
   "cell_type": "code",
   "execution_count": null,
   "id": "eff82e0f",
   "metadata": {},
   "outputs": [],
   "source": []
  }
 ],
 "metadata": {
  "kernelspec": {
   "display_name": "skills_env",
   "language": "python",
   "name": "python3"
  },
  "language_info": {
   "codemirror_mode": {
    "name": "ipython",
    "version": 3
   },
   "file_extension": ".py",
   "mimetype": "text/x-python",
   "name": "python",
   "nbconvert_exporter": "python",
   "pygments_lexer": "ipython3",
   "version": "3.11.2"
  }
 },
 "nbformat": 4,
 "nbformat_minor": 5
}
